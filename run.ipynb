{
 "cells": [
  {
   "cell_type": "code",
   "execution_count": 7,
   "metadata": {
    "collapsed": true
   },
   "outputs": [],
   "source": [
    "import pandas as pd\n",
    "import numpy as np\n",
    "import datetime\n",
    "import importlib\n",
    "import pickle\n",
    "import time\n",
    "\n",
    "import data_utils\n",
    "import model_utils_train\n",
    "import model_utils_infer\n",
    "import train_utils\n",
    "import evaluation\n",
    "importlib.reload(data_utils)\n",
    "importlib.reload(model_utils_train)\n",
    "importlib.reload(model_utils_infer)\n",
    "\n",
    "\n",
    "importlib.reload(train_utils)\n",
    "importlib.reload(evaluation)\n",
    "\n",
    "import torch\n",
    "import torch.nn as nn\n",
    "\n",
    "from transformers import DistilBertPreTrainedModel\n",
    "from transformers import DistilBertForQuestionAnswering\n",
    "from transformers import DistilBertConfig, DistilBertTokenizer"
   ]
  },
  {
   "cell_type": "markdown",
   "metadata": {},
   "source": [
    "### Load data"
   ]
  },
  {
   "cell_type": "code",
   "execution_count": 8,
   "metadata": {
    "collapsed": true
   },
   "outputs": [],
   "source": [
    "file_dict = {\"train1.1tiny\": \"./data/tiny_train-v1.1.json\",\n",
    "             \"train2.0tiny\": \"./data/tiny_train-v2.0.json\",\n",
    "             \"train1.1\": \"./data/train-v1.1.json\", \n",
    "             \"dev1.1\": \"./data/dev-v1.1.json\"}\n",
    "train_data_v1_debug = data_utils.prep_data(file_dict[\"train1.1tiny\"])\n",
    "train_data_v2_debug = data_utils.prep_data(file_dict[\"train2.0tiny\"])\n",
    "dev_data_v1 = data_utils.prep_data(file_dict[\"dev1.1\"])\n",
    "train_data_v1 = data_utils.prep_data(file_dict[\"train1.1\"])"
   ]
  },
  {
   "cell_type": "markdown",
   "metadata": {},
   "source": [
    "### Run inference with Huggingface pretrained BERT fine-tuned on SQuAD"
   ]
  },
  {
   "cell_type": "code",
   "execution_count": 100,
   "metadata": {
    "scrolled": true
   },
   "outputs": [
    {
     "name": "stdout",
     "output_type": "stream",
     "text": [
      "inference time (6 paragraphs): 57.1 sec\n",
      "evaluation result:\n",
      " OrderedDict([('exact', 73.33333333333333), ('f1', 88.20374794287838), ('total', 45), ('HasAns_exact', 73.33333333333333), ('HasAns_f1', 88.20374794287838), ('HasAns_total', 45)])\n"
     ]
    }
   ],
   "source": [
    "importlib.reload(model_utils)\n",
    "importlib.reload(train_utils)\n",
    "m = model_utils.PreTrainedSQuAD()\n",
    "result = train_utils.inference(train_data_v2, m)"
   ]
  },
  {
   "cell_type": "markdown",
   "metadata": {},
   "source": [
    "### Run inference with Huggingface pretrained DistillBERT fine-tuned on SQuAD"
   ]
  },
  {
   "cell_type": "code",
   "execution_count": 7,
   "metadata": {},
   "outputs": [
    {
     "name": "stdout",
     "output_type": "stream",
     "text": [
      "inference time (6 paragraphs): 0.6 sec\n",
      "exact match: 68.51851851851852, f1 score: 84.66444049777384\n"
     ]
    }
   ],
   "source": [
    "importlib.reload(model_utils)\n",
    "m = model_utils.DistilBERTSQuAD()\n",
    "result = train_utils.inference(train_data_v1, m)"
   ]
  },
  {
   "cell_type": "code",
   "execution_count": 8,
   "metadata": {},
   "outputs": [
    {
     "name": "stdout",
     "output_type": "stream",
     "text": [
      "inference time (2067 paragraphs): 112.2 sec\n",
      "exact match: 69.24314096499526, f1 score: 79.05754999708667\n"
     ]
    }
   ],
   "source": [
    "importlib.reload(model_utils)\n",
    "m = model_utils.DistilBERTSQuAD()\n",
    "result = train_utils.inference(dev_data_v1, m)"
   ]
  },
  {
   "cell_type": "markdown",
   "metadata": {
    "collapsed": true
   },
   "source": [
    "### Train and run simple DistilBERT model"
   ]
  },
  {
   "cell_type": "code",
   "execution_count": null,
   "metadata": {
    "scrolled": false
   },
   "outputs": [],
   "source": [
    "importlib.reload(model_utils_train)\n",
    "importlib.reload(train_utils)\n",
    "m = model_utils_train.SimpleDistilBERT()\n",
    "result = train_utils.train(train_data=train_data_v1, val_data=dev_data_v1, model=m, patience=10, lr=1e-4)"
   ]
  }
 ],
 "metadata": {
  "kernelspec": {
   "display_name": "Python 3",
   "language": "python",
   "name": "python3"
  },
  "language_info": {
   "codemirror_mode": {
    "name": "ipython",
    "version": 3
   },
   "file_extension": ".py",
   "mimetype": "text/x-python",
   "name": "python",
   "nbconvert_exporter": "python",
   "pygments_lexer": "ipython3",
   "version": "3.6.2"
  }
 },
 "nbformat": 4,
 "nbformat_minor": 2
}
