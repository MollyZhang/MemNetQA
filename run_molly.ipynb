{
 "cells": [
  {
   "cell_type": "code",
   "execution_count": 2,
   "metadata": {
    "collapsed": true
   },
   "outputs": [],
   "source": [
    "import pandas as pd\n",
    "import numpy as np\n",
    "import datetime\n",
    "import importlib\n",
    "import pickle\n",
    "import time\n",
    "import tqdm\n",
    "import datetime\n",
    "import os\n",
    "\n",
    "import data_utils\n",
    "import model_utils_train\n",
    "import model_utils_infer\n",
    "import train_utils\n",
    "import evaluation\n",
    "importlib.reload(data_utils)\n",
    "importlib.reload(model_utils_train)\n",
    "importlib.reload(model_utils_infer)\n",
    "\n",
    "\n",
    "importlib.reload(train_utils)\n",
    "importlib.reload(evaluation)\n",
    "\n",
    "import torch\n",
    "import torch.nn as nn\n",
    "\n",
    "from transformers import DistilBertPreTrainedModel\n",
    "from transformers import DistilBertForQuestionAnswering\n",
    "from transformers import DistilBertConfig, DistilBertTokenizer"
   ]
  },
  {
   "cell_type": "markdown",
   "metadata": {},
   "source": [
    "### Load data"
   ]
  },
  {
   "cell_type": "code",
   "execution_count": 2,
   "metadata": {
    "collapsed": true
   },
   "outputs": [],
   "source": [
    "file_dict = {\"train1.1tiny\": \"./data/tiny_train-v1.1.json\",\n",
    "             \"train2.0tiny\": \"./data/tiny_train-v2.0.json\",\n",
    "             \"train1.1\": \"./data/train-v1.1.json\", \n",
    "             \"dev1.1\": \"./data/dev-v1.1.json\", \n",
    "             \"train1.1medium\": \"./data/medium_train_v1.1.json\",\n",
    "             \"dev1.1medium\": \"./data/medium_dev_v1.1.json\"}\n",
    "train_data_v1_debug = data_utils.prep_data(file_dict[\"train1.1tiny\"])\n",
    "train_data_v2_debug = data_utils.prep_data(file_dict[\"train2.0tiny\"])\n",
    "train_data_v1 = data_utils.prep_data(file_dict[\"train1.1medium\"])\n",
    "dev_data_v1 = data_utils.prep_data(file_dict[\"dev1.1medium\"])"
   ]
  },
  {
   "cell_type": "markdown",
   "metadata": {
    "collapsed": true
   },
   "source": [
    "### Train and run simple DistilBERT model"
   ]
  },
  {
   "cell_type": "code",
   "execution_count": null,
   "metadata": {
    "scrolled": false
   },
   "outputs": [
    {
     "name": "stdout",
     "output_type": "stream",
     "text": [
      "batch 0,batch 1000,batch 2000,"
     ]
    }
   ],
   "source": [
    "importlib.reload(model_utils_train)\n",
    "importlib.reload(train_utils)\n",
    "# m = model_utils_train.SimpleDistilBERT()\n",
    "m = torch.load(\"./data/model_checkpoints/distilbert_2020-03-08.mdl\")\n",
    "result = train_utils.train(train_data=train_data_v1, val_data=dev_data_v1, model=m, \n",
    "                           patience=10, lr=3e-5, print_freq=1)"
   ]
  },
  {
   "cell_type": "code",
   "execution_count": 5,
   "metadata": {},
   "outputs": [
    {
     "ename": "FileNotFoundError",
     "evalue": "[Errno 2] No such file or directory: './data/model_checkpoints/dist1.mdl'",
     "output_type": "error",
     "traceback": [
      "\u001b[0;31m---------------------------------------------------------------------------\u001b[0m",
      "\u001b[0;31mFileNotFoundError\u001b[0m                         Traceback (most recent call last)",
      "\u001b[0;32m<ipython-input-5-df54b57e837d>\u001b[0m in \u001b[0;36m<module>\u001b[0;34m()\u001b[0m\n\u001b[0;32m----> 1\u001b[0;31m \u001b[0mos\u001b[0m\u001b[0;34m.\u001b[0m\u001b[0mremove\u001b[0m\u001b[0;34m(\u001b[0m\u001b[0;34m\"./data/model_checkpoints/dist1.mdl\"\u001b[0m\u001b[0;34m)\u001b[0m\u001b[0;34m\u001b[0m\u001b[0m\n\u001b[0m",
      "\u001b[0;31mFileNotFoundError\u001b[0m: [Errno 2] No such file or directory: './data/model_checkpoints/dist1.mdl'"
     ]
    }
   ],
   "source": [
    "os.remove(\"./data/model_checkpoints/dist1.mdl\", er)"
   ]
  },
  {
   "cell_type": "code",
   "execution_count": null,
   "metadata": {
    "collapsed": true
   },
   "outputs": [],
   "source": []
  }
 ],
 "metadata": {
  "kernelspec": {
   "display_name": "Python 3",
   "language": "python",
   "name": "python3"
  },
  "language_info": {
   "codemirror_mode": {
    "name": "ipython",
    "version": 3
   },
   "file_extension": ".py",
   "mimetype": "text/x-python",
   "name": "python",
   "nbconvert_exporter": "python",
   "pygments_lexer": "ipython3",
   "version": "3.6.2"
  }
 },
 "nbformat": 4,
 "nbformat_minor": 2
}
