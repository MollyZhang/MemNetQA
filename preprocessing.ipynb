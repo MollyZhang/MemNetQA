{
 "cells": [
  {
   "cell_type": "code",
   "execution_count": 125,
   "metadata": {
    "collapsed": true
   },
   "outputs": [],
   "source": [
    "import pandas as pd\n",
    "import numpy as np\n",
    "import spacy\n",
    "import itertools\n",
    "import pickle\n",
    "import re\n",
    "import json\n",
    "import importlib"
   ]
  },
  {
   "cell_type": "markdown",
   "metadata": {},
   "source": [
    "### take a look at data and save a small sample"
   ]
  },
  {
   "cell_type": "code",
   "execution_count": 126,
   "metadata": {
    "collapsed": true
   },
   "outputs": [],
   "source": [
    "train = json.load(open(\"./data/train-v2.0.json\", \"r\"))[\"data\"]"
   ]
  },
  {
   "cell_type": "code",
   "execution_count": 127,
   "metadata": {
    "collapsed": true
   },
   "outputs": [],
   "source": [
    "small_train = [i for i in train if i[\"title\"] in [\"Buddhism\", \"Space_Race\"]]\n",
    "tinny_train = []\n",
    "for i in small_train:\n",
    "    short_i = i\n",
    "    short_i[\"paragraphs\"] = i[\"paragraphs\"][:3]\n",
    "    tinny_train.append(short_i)"
   ]
  },
  {
   "cell_type": "code",
   "execution_count": 128,
   "metadata": {
    "collapsed": true
   },
   "outputs": [],
   "source": [
    "json.dump({\"version\": \"v2.0\", \"data\": tinny_train}, open(\"./data/tiny_train.json\", \"w\"))"
   ]
  },
  {
   "cell_type": "code",
   "execution_count": 129,
   "metadata": {},
   "outputs": [
    {
     "name": "stdout",
     "output_type": "stream",
     "text": [
      "Buddhism\n",
      "number of paragraphs: 3\n",
      "number of questions in paragraph 0: 16\n",
      "number of questions in paragraph 1: 10\n",
      "number of questions in paragraph 2: 10\n",
      "Space_Race\n",
      "number of paragraphs: 3\n",
      "number of questions in paragraph 0: 4\n",
      "number of questions in paragraph 1: 2\n",
      "number of questions in paragraph 2: 3\n"
     ]
    }
   ],
   "source": [
    "for title in tinny_train:\n",
    "    print(title[\"title\"])\n",
    "    print(\"number of paragraphs:\",len(title[\"paragraphs\"]))\n",
    "    for i, paragrah in enumerate(title[\"paragraphs\"]):\n",
    "        print(\"number of questions in paragraph {}: {}\".format(i, len(paragrah[\"qas\"])))"
   ]
  },
  {
   "cell_type": "markdown",
   "metadata": {},
   "source": [
    "### Test data_utils"
   ]
  },
  {
   "cell_type": "code",
   "execution_count": 130,
   "metadata": {
    "collapsed": true
   },
   "outputs": [],
   "source": [
    "importlib.reload(data_utils)\n",
    "import data_utils"
   ]
  },
  {
   "cell_type": "code",
   "execution_count": 131,
   "metadata": {
    "collapsed": true
   },
   "outputs": [],
   "source": [
    "file_dict = {\"train\": \"./data/tiny_train.json\",\n",
    "             \"val\": \"./data/tiny_train.json\"}"
   ]
  },
  {
   "cell_type": "code",
   "execution_count": 134,
   "metadata": {
    "collapsed": true
   },
   "outputs": [],
   "source": [
    "train_data = data_utils.prep_data(file_dict[\"train\"])"
   ]
  },
  {
   "cell_type": "code",
   "execution_count": 145,
   "metadata": {},
   "outputs": [
    {
     "name": "stdout",
     "output_type": "stream",
     "text": [
      "---Context\n",
      "Buddhism /ˈbudɪzəm/ is a nontheistic religion[note 1] or philosophy (Sanskrit: धर्म dharma; Pali: धम्म dhamma) that encompasses a variety of traditions, beliefs and spiritual practices largely based on teachings attributed to Gautama Buddha, commonly known as the Buddha (\"the awakened one\"). According to Buddhist tradition, the Buddha lived and taught in the eastern part of the Indian subcontinent, present-day Nepal sometime between the 6th and 4th centuries BCE.[note 1] He is recognized by Buddhists as an awakened or enlightened teacher who shared his insights to help sentient beings end their suffering through the elimination of ignorance and craving. Buddhists believe that this is accomplished through the direct understanding and perception of dependent origination and the Four Noble Truths.\n",
      "Q0:What type of religion is Buddhism?\n",
      "A0:nontheistic\n",
      "Q1:What are the practices of Buddhism based on?\n",
      "A1:teachings attributed to Gautama Buddha\n",
      "Q2:Where did the Buddha live?\n",
      "A2:present-day Nepal\n",
      "Q3:How do Buddhists believe their suffering can be ended?\n",
      "A3:through the direct understanding and perception of dependent origination and the Four Noble Truths\n",
      "Q4:What did the Buddha teach should be given up to end suffering?\n",
      "A4:ignorance and craving\n",
      "Q5:What type of religion is Buddhism?\n",
      "A5:nontheistic religion\n",
      "Q6:Who's teaching is Buddhism based upon?\n",
      "A6:Gautama Buddha\n",
      "Q7:When was Buddha alive?\n",
      "A7:between the 6th and 4th centuries BCE\n",
      "Q8:Where did Buddha reside when he was alive?\n",
      "A8:present-day Nepal\n",
      "Q9:Who's teachings is Buddhism based upon?\n",
      "A9:Gautama Buddha\n",
      "Q10:Where was Buddha thought to live?\n",
      "A10:Nepal\n",
      "Q11:When approximately was Buddha alive?\n",
      "A11:sometime between the 6th and 4th centuries BCE\n",
      "Q12:Buddhism is based on the teaching of who?\n",
      "A12:Gautama Buddha\n",
      "Q13:How many noble truths are there?\n",
      "A13:4\n",
      "Q14:Buddha was part of what subcontinent?\n",
      "A14:Indian\n",
      "Q15:Who is \"the awakened one\"\n",
      "A15:Buddha\n"
     ]
    }
   ],
   "source": [
    "for p in train_data:\n",
    "    print(\"---Context\\n\"+p.context)\n",
    "    for i, (q,a) in enumerate(zip(p.q, p.a)):\n",
    "        print(\"Q{}:{}\".format(i, q))\n",
    "        print(\"A{}:{}\".format(i, a))\n",
    "    break"
   ]
  },
  {
   "cell_type": "code",
   "execution_count": null,
   "metadata": {
    "collapsed": true
   },
   "outputs": [],
   "source": []
  }
 ],
 "metadata": {
  "kernelspec": {
   "display_name": "Python 3",
   "language": "python",
   "name": "python3"
  },
  "language_info": {
   "codemirror_mode": {
    "name": "ipython",
    "version": 3
   },
   "file_extension": ".py",
   "mimetype": "text/x-python",
   "name": "python",
   "nbconvert_exporter": "python",
   "pygments_lexer": "ipython3",
   "version": "3.6.2"
  }
 },
 "nbformat": 4,
 "nbformat_minor": 2
}
