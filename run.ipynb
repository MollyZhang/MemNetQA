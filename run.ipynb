{
 "cells": [
  {
   "cell_type": "code",
   "execution_count": 1,
   "metadata": {
    "collapsed": true
   },
   "outputs": [],
   "source": [
    "import pandas as pd\n",
    "import numpy as np\n",
    "import datetime\n",
    "import importlib\n",
    "import pickle\n",
    "import time\n",
    "import tqdm\n",
    "\n",
    "import data_utils\n",
    "import model_utils_train\n",
    "import model_utils_infer\n",
    "import train_utils\n",
    "import evaluation\n",
    "importlib.reload(data_utils)\n",
    "importlib.reload(model_utils_train)\n",
    "importlib.reload(model_utils_infer)\n",
    "\n",
    "\n",
    "importlib.reload(train_utils)\n",
    "importlib.reload(evaluation)\n",
    "\n",
    "import torch\n",
    "import torch.nn as nn\n",
    "\n",
    "from transformers import DistilBertPreTrainedModel\n",
    "from transformers import DistilBertForQuestionAnswering\n",
    "from transformers import DistilBertConfig, DistilBertTokenizer"
   ]
  },
  {
   "cell_type": "markdown",
   "metadata": {},
   "source": [
    "### Load data"
   ]
  },
  {
   "cell_type": "code",
   "execution_count": 2,
   "metadata": {
    "collapsed": true
   },
   "outputs": [],
   "source": [
    "file_dict = {\"train1.1tiny\": \"./data/tiny_train-v1.1.json\",\n",
    "             \"train2.0tiny\": \"./data/tiny_train-v2.0.json\",\n",
    "             \"train1.1\": \"./data/train-v1.1.json\", \n",
    "             \"dev1.1\": \"./data/dev-v1.1.json\", \n",
    "             \"train1.1medium\": \"./data/medium_train_v1.1.json\",\n",
    "             \"dev1.1medium\": \"./data/medium_dev_v1.1.json\"}\n",
    "train_data_v1_debug = data_utils.prep_data(file_dict[\"train1.1tiny\"])\n",
    "train_data_v2_debug = data_utils.prep_data(file_dict[\"train2.0tiny\"])\n",
    "train_data_v1 = data_utils.prep_data(file_dict[\"train1.1medium\"])\n",
    "dev_data_v1 = data_utils.prep_data(file_dict[\"dev1.1medium\"])"
   ]
  },
  {
   "cell_type": "markdown",
   "metadata": {},
   "source": [
    "### Run inference with Huggingface pretrained BERT fine-tuned on SQuAD"
   ]
  },
  {
   "cell_type": "code",
   "execution_count": null,
   "metadata": {
    "collapsed": true,
    "scrolled": true
   },
   "outputs": [],
   "source": [
    "importlib.reload(model_utils)\n",
    "importlib.reload(train_utils)\n",
    "m = model_utils.PreTrainedSQuAD()\n",
    "result = train_utils.inference(train_data_v2, m)"
   ]
  },
  {
   "cell_type": "markdown",
   "metadata": {},
   "source": [
    "### Run inference with Huggingface pretrained DistillBERT fine-tuned on SQuAD"
   ]
  },
  {
   "cell_type": "code",
   "execution_count": null,
   "metadata": {
    "collapsed": true
   },
   "outputs": [],
   "source": [
    "importlib.reload(model_utils)\n",
    "m = model_utils.DistilBERTSQuAD()\n",
    "result = train_utils.inference(train_data_v1, m)"
   ]
  },
  {
   "cell_type": "code",
   "execution_count": null,
   "metadata": {
    "collapsed": true
   },
   "outputs": [],
   "source": [
    "importlib.reload(model_utils)\n",
    "m = model_utils.DistilBERTSQuAD()\n",
    "result = train_utils.inference(dev_data_v1, m)"
   ]
  },
  {
   "cell_type": "markdown",
   "metadata": {
    "collapsed": true
   },
   "source": [
    "### Train and run simple DistilBERT model"
   ]
  },
  {
   "cell_type": "code",
   "execution_count": 8,
   "metadata": {
    "scrolled": true
   },
   "outputs": [
    {
     "name": "stdout",
     "output_type": "stream",
     "text": [
      "Epoch: 0, LR: 3e-05, Train Loss: 10.5282, Val Loss: 9.8157, Val f1 7.931, epoch time: 1.7s\n",
      "Epoch: 10, LR: 3e-05, Train Loss: 4.3554, Val Loss: 4.1090, Val f1 21.738, epoch time: 1.5s\n",
      "Epoch: 20, LR: 3e-05, Train Loss: 3.0646, Val Loss: 3.2321, Val f1 40.183, epoch time: 1.5s\n",
      "Epoch: 30, LR: 3e-05, Train Loss: 1.2089, Val Loss: 0.8216, Val f1 83.022, epoch time: 1.6s\n",
      "Epoch: 40, LR: 3e-05, Train Loss: 0.4165, Val Loss: 0.2666, Val f1 86.909, epoch time: 1.5s\n",
      "Epoch: 50, LR: 3e-05, Train Loss: 0.4213, Val Loss: 0.1705, Val f1 88.320, epoch time: 1.5s\n"
     ]
    }
   ],
   "source": [
    "importlib.reload(model_utils_train)\n",
    "importlib.reload(train_utils)\n",
    "m = model_utils_train.SimpleDistilBERT()\n",
    "result = train_utils.train(train_data=train_data_v1_debug, val_data=train_data_v1_debug, model=m, \n",
    "                           patience=10, lr=3e-5, print_freq=10)"
   ]
  },
  {
   "cell_type": "code",
   "execution_count": null,
   "metadata": {
    "scrolled": false
   },
   "outputs": [
    {
     "name": "stdout",
     "output_type": "stream",
     "text": [
      "batch 0,estimated epoch time: 1712.0642431259155s\n",
      "batch 100,estimated epoch time: 1116.6682387865505s\n",
      "batch 200,estimated epoch time: 1012.547588968277s\n",
      "batch 300,estimated epoch time: 1998.0477038383485s\n",
      "batch 400,estimated epoch time: 914.0839289937701s\n",
      "batch 500,estimated epoch time: 2028.6648106575012s\n",
      "batch 600,estimated epoch time: 1615.4702914782933s\n",
      "batch 700,estimated epoch time: 1689.8450864950817s\n",
      "batch 800,estimated epoch time: 1200.424531698227s\n",
      "batch 900,estimated epoch time: 1323.8708548545837s\n",
      "batch 1000,estimated epoch time: 1807.5487908124924s\n",
      "batch 1100,estimated epoch time: 1917.021449497768s\n",
      "batch 1200,estimated epoch time: 1891.019189119339s\n",
      "batch 1300,estimated epoch time: 1117.0531740188599s\n",
      "batch 1400,estimated epoch time: 1415.8014078140259s\n",
      "batch 1500,estimated epoch time: 3068.5418788790703s\n",
      "batch 1600,estimated epoch time: 1206.836109161377s\n",
      "batch 1700,estimated epoch time: 1762.0265908241272s\n",
      "batch 1800,estimated epoch time: 2878.968561331431s\n",
      "batch 1900,estimated epoch time: 1459.1812026500702s\n",
      "batch 2000,estimated epoch time: 2026.2982609272003s\n",
      "batch 2100,estimated epoch time: 1619.2482322057087s\n",
      "batch 2200,estimated epoch time: 1354.3545174598694s\n",
      "batch 2300,estimated epoch time: 2339.110263824463s\n",
      "batch 2400,estimated epoch time: 1141.0022402763366s\n",
      "batch 2500,estimated epoch time: 3772.8223872184753s\n",
      "batch 2600,estimated epoch time: 1564.1121411323547s\n",
      "batch 2700,estimated epoch time: 1121.1503283977509s\n",
      "batch 2800,estimated epoch time: 3915.7328000068665s\n",
      "batch 2900,estimated epoch time: 1398.7976958751678s\n",
      "batch 3000,estimated epoch time: 1145.3933889389039s\n",
      "batch 3100,estimated epoch time: 2337.1815779209137s\n",
      "batch 3200,estimated epoch time: 1297.814482053121s\n",
      "batch 3300,estimated epoch time: 1080.7834537029266s\n",
      "batch 3400,estimated epoch time: 881.4073728561401s\n",
      "batch 3500,estimated epoch time: 941.5479694604874s\n",
      "batch 3600,estimated epoch time: 1400.4052816390993s\n",
      "batch 3700,estimated epoch time: 1068.8631322860717s\n",
      "batch 3800,estimated epoch time: 1671.3548963665962s\n",
      "batch 3900,estimated epoch time: 1029.8682309150695s\n",
      "batch 4000,estimated epoch time: 1559.4499339103697s\n",
      "batch 4100,estimated epoch time: 1843.7945328712465s\n",
      "batch 4200,estimated epoch time: 1024.4293366670609s\n",
      "batch 4300,estimated epoch time: 1207.3949068069458s\n",
      "batch 4400,estimated epoch time: 1674.3245513916015s\n",
      "batch 4500,estimated epoch time: 1419.2167456626892s\n",
      "batch 4600,estimated epoch time: 1585.9080293973286s\n",
      "batch 4700,estimated epoch time: 1362.9950303077699s\n",
      "batch 4800,estimated epoch time: 1347.5016010602317s\n",
      "batch 4900,estimated epoch time: 1264.3463952064515s\n",
      "batch 5000,estimated epoch time: 1162.2991027832031s\n",
      "batch 5100,estimated epoch time: 1497.0314028739929s\n",
      "batch 5200,estimated epoch time: 3043.695713043213s\n",
      "batch 5300,estimated epoch time: 1717.037820180257s\n",
      "batch 5400,estimated epoch time: 1300.1636562347412s\n",
      "batch 5500,estimated epoch time: 1139.5041204690933s\n",
      "batch 5600,estimated epoch time: 1884.9287117958067s\n",
      "batch 5700,estimated epoch time: 1518.9371046066283s\n",
      "batch 5800,estimated epoch time: 1720.646374130249s\n",
      "batch 5900,estimated epoch time: 1469.8629949569702s\n",
      "batch 6000,estimated epoch time: 2924.16305847168s\n",
      "batch 6100,estimated epoch time: 1827.2057490348816s\n",
      "batch 6200,estimated epoch time: 1456.416173670027s\n",
      "batch 6300,estimated epoch time: 1332.211118221283s\n",
      "batch 6400,estimated epoch time: 1731.8598582267762s\n",
      "batch 6500,estimated epoch time: 1922.9853335380556s\n",
      "batch 6600,estimated epoch time: 1628.4864639282225s\n",
      "batch 6700,estimated epoch time: 2186.8712664604186s\n",
      "batch 6800,estimated epoch time: 1814.226214170456s\n",
      "batch 6900,estimated epoch time: 2515.239945602417s\n",
      "batch 7000,estimated epoch time: 1543.5533919334412s\n",
      "batch 7100,estimated epoch time: 1384.2908502817154s\n",
      "batch 7200,estimated epoch time: 1427.2275686264038s\n",
      "batch 7300,estimated epoch time: 1474.0268714427948s\n",
      "batch 7400,estimated epoch time: 1453.8371788978577s\n",
      "batch 7500,estimated epoch time: 1797.6864293813705s\n",
      "batch 7600,estimated epoch time: 1452.481886100769s\n",
      "batch 7700,estimated epoch time: 2159.752900123596s\n",
      "batch 7800,estimated epoch time: 1767.426911354065s\n",
      "batch 7900,estimated epoch time: 2177.2591129302978s\n",
      "batch 8000,estimated epoch time: 1442.961475467682s\n",
      "batch 8100,estimated epoch time: 2156.1665868759155s\n",
      "batch 8200,estimated epoch time: 1394.7329758538142s\n",
      "batch 8300,estimated epoch time: 1985.0799843470256s\n",
      "batch 8400,estimated epoch time: 1500.1840224266052s\n",
      "batch 8500,estimated epoch time: 1749.0018795331318s\n",
      "batch 8600,estimated epoch time: 1683.6420156160991s\n",
      "batch 8700,estimated epoch time: 2149.7987957954406s\n",
      "batch 8800,estimated epoch time: 1309.3462862014771s\n",
      "batch 8900,estimated epoch time: 2802.620400428772s\n",
      "batch 9000,estimated epoch time: 2151.412636756897s\n",
      "batch 9100,estimated epoch time: 1198.917029094696s\n",
      "batch 9200,estimated epoch time: 1699.8568776448567s\n",
      "batch 9300,estimated epoch time: 1478.3585957288742s\n",
      "batch 9400,estimated epoch time: 2142.822165489197s\n",
      "batch 9500,estimated epoch time: 1473.4236916814532s\n",
      "batch 9600,estimated epoch time: 1694.3401409387589s\n",
      "batch 9700,estimated epoch time: 2592.284170985222s\n",
      "batch 9800,estimated epoch time: 2027.935037612915s\n",
      "batch 9900,estimated epoch time: 1707.5813515663147s\n",
      "batch 10000,estimated epoch time: 1435.8545285463333s\n",
      "batch 10100,estimated epoch time: 1571.0303895950317s\n",
      "batch 10200,estimated epoch time: 1640.7591614723206s\n",
      "batch 10300,estimated epoch time: 1801.9764523506165s\n",
      "batch 10400,estimated epoch time: 2224.635978984833s\n",
      "batch 10500,estimated epoch time: 1401.1955215930939s\n",
      "batch 10600,estimated epoch time: 1312.0693821907043s\n",
      "batch 10700,estimated epoch time: 1984.515626525879s\n",
      "batch 10800,estimated epoch time: 1508.1698246002197s\n",
      "batch 10900,estimated epoch time: 1455.5094017028807s\n",
      "batch 11000,estimated epoch time: 1710.283596897125s\n",
      "batch 11100,estimated epoch time: 3137.5820577621457s\n",
      "batch 11200,estimated epoch time: 1821.7804077148437s\n",
      "batch 11300,estimated epoch time: 1530.9178929328918s\n",
      "batch 11400,estimated epoch time: 1337.1819151878358s\n",
      "batch 11500,estimated epoch time: 1751.9696232477825s\n",
      "batch 11600,estimated epoch time: 2535.3524907112123s\n",
      "batch 11700,estimated epoch time: 1859.967346072197s\n",
      "batch 11800,estimated epoch time: 1766.9098150253296s\n",
      "batch 11900,estimated epoch time: 1797.1530000368755s\n",
      "batch 12000,estimated epoch time: 1355.8807856559754s\n",
      "batch 12100,estimated epoch time: 1832.1942690610886s\n",
      "batch 12200,estimated epoch time: 1435.0340551376341s\n",
      "batch 12300,estimated epoch time: 1607.9652459144593s\n",
      "batch 12400,estimated epoch time: 1415.4052453041077s\n",
      "batch 12500,estimated epoch time: 1567.1771879196167s\n",
      "batch 12600,estimated epoch time: 2256.3887516657514s\n",
      "batch 12700,estimated epoch time: 2172.826262950897s\n",
      "batch 12800,estimated epoch time: 1769.157516002655s\n",
      "batch 12900,estimated epoch time: 1573.682593345642s\n",
      "batch 13000,estimated epoch time: 1396.5937812805175s\n",
      "batch 13100,estimated epoch time: 2190.7717296282453s\n",
      "batch 13200,estimated epoch time: 1918.1187898635865s\n",
      "batch 13300,estimated epoch time: 1404.317907691002s\n",
      "batch 13400,estimated epoch time: 1588.040356731415s\n",
      "batch 13500,estimated epoch time: 1610.2546482086182s\n",
      "batch 13600,estimated epoch time: 1444.5711462974548s\n",
      "batch 13700,estimated epoch time: 1589.6620166897774s\n",
      "batch 13800,estimated epoch time: 1931.3130865097046s\n",
      "batch 13900,estimated epoch time: 1735.5045533180237s\n",
      "batch 14000,estimated epoch time: 1782.6562322616576s\n",
      "batch 14100,estimated epoch time: 1528.8369972229004s\n",
      "batch 14200,estimated epoch time: 1543.4856272935867s\n",
      "batch 14300,estimated epoch time: 1475.5552247047424s\n",
      "batch 14400,estimated epoch time: 1899.720168876648s\n",
      "batch 14500,estimated epoch time: 1581.589163017273s\n",
      "batch 14600,estimated epoch time: 1802.0876558621724s\n",
      "batch 14700,estimated epoch time: 1409.054134750366s\n",
      "batch 14800,estimated epoch time: 1750.0416323661805s\n",
      "batch 14900,estimated epoch time: 2737.816554069519s\n",
      "batch 15000,estimated epoch time: 1420.4928059577942s\n",
      "batch 15100,estimated epoch time: 1552.023971915245s\n",
      "batch 15200,estimated epoch time: 1434.6337224960328s\n",
      "batch 15300,estimated epoch time: 1222.7910329818726s\n",
      "batch 15400,estimated epoch time: 3379.4747161865234s\n"
     ]
    },
    {
     "name": "stdout",
     "output_type": "stream",
     "text": [
      "batch 15500,estimated epoch time: 1427.4027141571044s\n",
      "batch 15600,estimated epoch time: 1425.4083486795425s\n",
      "batch 15700,estimated epoch time: 1882.2890184402465s\n",
      "batch 15800,estimated epoch time: 2138.485228538513s\n",
      "batch 15900,estimated epoch time: 2176.3778251012163s\n",
      "batch 16000,estimated epoch time: 1763.2234186172484s\n",
      "batch 16100,estimated epoch time: 1432.2734279632568s\n",
      "batch 16200,estimated epoch time: 1702.2102219581604s\n",
      "batch 16300,estimated epoch time: 2390.1422502994537s\n",
      "batch 16400,estimated epoch time: 1379.3794776916504s\n",
      "batch 16500,estimated epoch time: 1983.452242946625s\n",
      "batch 16600,estimated epoch time: 1529.53340921402s\n",
      "batch 16700,estimated epoch time: 1645.5808762311935s\n",
      "batch 16800,estimated epoch time: 1633.5370146632195s\n",
      "batch 16900,estimated epoch time: 1023.8414639366997s\n",
      "batch 17000,estimated epoch time: 1828.804299513499s\n",
      "batch 17100,estimated epoch time: 2710.7565695762632s\n",
      "batch 17200,estimated epoch time: 2025.646677851677s\n",
      "batch 17300,estimated epoch time: 2805.044289469719s\n",
      "batch 17400,estimated epoch time: 2094.6154432296753s\n",
      "batch 17500,estimated epoch time: 1487.548523426056s\n",
      "batch 17600,estimated epoch time: 1999.6323538780214s\n",
      "batch 17700,estimated epoch time: 2526.641085624695s\n",
      "batch 17800,estimated epoch time: 2342.1210988998414s\n",
      "batch 17900,estimated epoch time: 1301.4021853446961s\n",
      "batch 18000,estimated epoch time: 1503.7963989973068s\n",
      "batch 18100,estimated epoch time: 1330.1969446182252s\n",
      "batch 18200,estimated epoch time: 1405.939046382904s\n",
      "batch 18300,estimated epoch time: 1294.7299746513368s\n",
      "batch 18400,estimated epoch time: 1761.5261750221252s\n",
      "batch 18500,estimated epoch time: 1758.0065838813782s\n",
      "batch 18600,estimated epoch time: 1702.406218147278s\n",
      "batch 18700,estimated epoch time: 1854.2143019040425s\n",
      "batch 18800,estimated epoch time: 1103.8651325702667s\n",
      "Epoch: 0, LR: 3e-05, Train Loss: 2.9504, Val Loss: 2.5727, Val f1 73.355, epoch time: 1724.4s\n",
      "batch 0,estimated epoch time: 1559.9378393173217s\n",
      "batch 100,estimated epoch time: 1057.1380051099338s\n",
      "batch 200,estimated epoch time: 1021.85115275383s\n",
      "batch 300,estimated epoch time: 2012.9142232894899s\n",
      "batch 400,estimated epoch time: 909.5682721138s\n",
      "batch 500,estimated epoch time: 2167.941996216774s\n",
      "batch 600,estimated epoch time: 1575.5502166066851s\n",
      "batch 700,estimated epoch time: 1676.757823228836s\n",
      "batch 800,estimated epoch time: 1175.8972071806588s\n",
      "batch 900,estimated epoch time: 1306.147795200348s\n",
      "batch 1000,estimated epoch time: 1843.2034167051315s\n",
      "batch 1100,estimated epoch time: 1930.9467106546674s\n",
      "batch 1200,estimated epoch time: 1699.4537649154663s\n",
      "batch 1300,estimated epoch time: 1101.869724559784s\n",
      "batch 1400,estimated epoch time: 1354.1407982110977s\n",
      "batch 1500,estimated epoch time: 3001.752007305622s\n",
      "batch 1600,estimated epoch time: 1222.2655963897705s\n",
      "batch 1700,estimated epoch time: 1741.4678416252136s\n",
      "batch 1800,estimated epoch time: 2788.9006671905518s\n",
      "batch 1900,estimated epoch time: 1433.394150853157s\n",
      "batch 2000,estimated epoch time: 2167.665724992752s\n",
      "batch 2100,estimated epoch time: 1636.4152743021648s\n",
      "batch 2200,estimated epoch time: 1277.2418324152627s\n",
      "batch 2300,estimated epoch time: 2368.905854701996s\n",
      "batch 2400,estimated epoch time: 1161.7778363227844s\n",
      "batch 2500,estimated epoch time: 3989.7943387031555s\n",
      "batch 2600,estimated epoch time: 1552.5650465011597s\n",
      "batch 2700,estimated epoch time: 1153.1873650550842s\n",
      "batch 2800,estimated epoch time: 3202.5985808372498s\n",
      "batch 2900,estimated epoch time: 1387.293345093727s\n",
      "batch 3000,estimated epoch time: 1073.683804512024s\n",
      "batch 3100,estimated epoch time: 2435.6800882816315s\n",
      "batch 3200,estimated epoch time: 1361.5479946136475s\n",
      "batch 3300,estimated epoch time: 1169.9929957389832s\n",
      "batch 3400,estimated epoch time: 953.6507341384887s\n",
      "batch 3500,estimated epoch time: 1014.3897446393967s\n",
      "batch 3600,estimated epoch time: 1466.927222251892s\n",
      "batch 3700,estimated epoch time: 1080.7688582420349s\n",
      "batch 3800,estimated epoch time: 1653.061049938202s\n",
      "batch 3900,estimated epoch time: 1003.0626244544983s\n",
      "batch 4000,estimated epoch time: 1566.572518825531s\n",
      "batch 4100,estimated epoch time: 1733.9991357803344s\n",
      "batch 4200,estimated epoch time: 992.4548519849777s\n",
      "batch 4300,estimated epoch time: 1176.8403519630433s\n",
      "batch 4400,estimated epoch time: 1699.1827063560486s\n",
      "batch 4500,estimated epoch time: 1286.0561007499696s\n",
      "batch 4600,estimated epoch time: 1395.4511651992798s\n",
      "batch 4700,estimated epoch time: 1350.401232624054s\n",
      "batch 4800,estimated epoch time: 1272.592135588328s\n",
      "batch 4900,estimated epoch time: 1246.1687911987306s\n",
      "batch 5000,estimated epoch time: 1195.8165361881256s\n",
      "batch 5100,estimated epoch time: 1491.722825241089s\n",
      "batch 5200,estimated epoch time: 3329.93355178833s\n"
     ]
    }
   ],
   "source": [
    "importlib.reload(model_utils_train)\n",
    "importlib.reload(train_utils)\n",
    "m = model_utils_train.SimpleDistilBERT()\n",
    "result = train_utils.train(train_data=train_data_v1, val_data=dev_data_v1, model=m, \n",
    "                           patience=10, lr=3e-5, print_freq=1, print_batch=True)"
   ]
  },
  {
   "cell_type": "code",
   "execution_count": 3,
   "metadata": {},
   "outputs": [
    {
     "data": {
      "text/plain": [
       "18865"
      ]
     },
     "execution_count": 3,
     "metadata": {},
     "output_type": "execute_result"
    }
   ],
   "source": [
    "train_data_v1.num_batch"
   ]
  },
  {
   "cell_type": "code",
   "execution_count": null,
   "metadata": {
    "collapsed": true
   },
   "outputs": [],
   "source": []
  }
 ],
 "metadata": {
  "kernelspec": {
   "display_name": "Python 3",
   "language": "python",
   "name": "python3"
  },
  "language_info": {
   "codemirror_mode": {
    "name": "ipython",
    "version": 3
   },
   "file_extension": ".py",
   "mimetype": "text/x-python",
   "name": "python",
   "nbconvert_exporter": "python",
   "pygments_lexer": "ipython3",
   "version": "3.6.2"
  }
 },
 "nbformat": 4,
 "nbformat_minor": 2
}
