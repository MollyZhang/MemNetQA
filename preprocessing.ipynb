{
 "cells": [
  {
   "cell_type": "code",
   "execution_count": 3,
   "metadata": {
    "collapsed": true
   },
   "outputs": [],
   "source": [
    "import pandas as pd\n",
    "import numpy as np\n",
    "import spacy\n",
    "import itertools\n",
    "import pickle\n",
    "import re\n",
    "import json\n",
    "import importlib"
   ]
  },
  {
   "cell_type": "markdown",
   "metadata": {},
   "source": [
    "### take a look at data and save a small sample"
   ]
  },
  {
   "cell_type": "code",
   "execution_count": 126,
   "metadata": {
    "collapsed": true
   },
   "outputs": [],
   "source": [
    "train = json.load(open(\"./data/train-v2.0.json\", \"r\"))[\"data\"]"
   ]
  },
  {
   "cell_type": "code",
   "execution_count": 127,
   "metadata": {
    "collapsed": true
   },
   "outputs": [],
   "source": [
    "small_train = [i for i in train if i[\"title\"] in [\"Buddhism\", \"Space_Race\"]]\n",
    "tinny_train = []\n",
    "for i in small_train:\n",
    "    short_i = i\n",
    "    short_i[\"paragraphs\"] = i[\"paragraphs\"][:3]\n",
    "    tinny_train.append(short_i)"
   ]
  },
  {
   "cell_type": "code",
   "execution_count": 128,
   "metadata": {
    "collapsed": true
   },
   "outputs": [],
   "source": [
    "json.dump({\"version\": \"v2.0\", \"data\": tinny_train}, open(\"./data/tiny_train.json\", \"w\"))"
   ]
  },
  {
   "cell_type": "code",
   "execution_count": 129,
   "metadata": {},
   "outputs": [
    {
     "name": "stdout",
     "output_type": "stream",
     "text": [
      "Buddhism\n",
      "number of paragraphs: 3\n",
      "number of questions in paragraph 0: 16\n",
      "number of questions in paragraph 1: 10\n",
      "number of questions in paragraph 2: 10\n",
      "Space_Race\n",
      "number of paragraphs: 3\n",
      "number of questions in paragraph 0: 4\n",
      "number of questions in paragraph 1: 2\n",
      "number of questions in paragraph 2: 3\n"
     ]
    }
   ],
   "source": [
    "for title in tinny_train:\n",
    "    print(title[\"title\"])\n",
    "    print(\"number of paragraphs:\",len(title[\"paragraphs\"]))\n",
    "    for i, paragrah in enumerate(title[\"paragraphs\"]):\n",
    "        print(\"number of questions in paragraph {}: {}\".format(i, len(paragrah[\"qas\"])))"
   ]
  },
  {
   "cell_type": "code",
   "execution_count": 187,
   "metadata": {
    "collapsed": true
   },
   "outputs": [],
   "source": [
    "### look at dev data: clearly dev data has multiple ground truth answers, while training data has only one\n",
    "dev = json.load(open(\"./data/dev-v2.0.json\", \"r\"))[\"data\"]"
   ]
  },
  {
   "cell_type": "code",
   "execution_count": 185,
   "metadata": {},
   "outputs": [
    {
     "data": {
      "text/plain": [
       "[{'answers': [{'answer_start': 331, 'text': 'helium'},\n",
       "   {'answer_start': 331, 'text': 'helium'},\n",
       "   {'answer_start': 331, 'text': 'helium'},\n",
       "   {'answer_start': 331, 'text': 'helium'},\n",
       "   {'answer_start': 331, 'text': 'helium'}],\n",
       "  'id': '571a484210f8ca1400304fbe',\n",
       "  'is_impossible': False,\n",
       "  'question': 'What is the second most abundant element?'},\n",
       " {'answers': [{'answer_start': 485, 'text': 'Diatomic oxygen'},\n",
       "   {'answer_start': 485, 'text': 'Diatomic oxygen'},\n",
       "   {'answer_start': 485, 'text': 'Diatomic oxygen gas'},\n",
       "   {'answer_start': 485, 'text': 'Diatomic oxygen'},\n",
       "   {'answer_start': 485, 'text': 'Diatomic oxygen gas'}],\n",
       "  'id': '571a484210f8ca1400304fbf',\n",
       "  'is_impossible': False,\n",
       "  'question': \"Which gas makes up 20.8% of the Earth's atmosphere?\"}]"
      ]
     },
     "execution_count": 185,
     "metadata": {},
     "output_type": "execute_result"
    }
   ],
   "source": [
    "[i for i in dev if i [\"title\"] == \"Oxygen\"][0][\"paragraphs\"][0][\"qas\"][1:3]"
   ]
  },
  {
   "cell_type": "markdown",
   "metadata": {},
   "source": [
    "### Get a same small sample from v1.0"
   ]
  },
  {
   "cell_type": "code",
   "execution_count": 188,
   "metadata": {
    "collapsed": true
   },
   "outputs": [],
   "source": [
    "train1 = json.load(open(\"./data/train-v1.1.json\", \"r\"))[\"data\"]"
   ]
  },
  {
   "cell_type": "code",
   "execution_count": 189,
   "metadata": {
    "collapsed": true
   },
   "outputs": [],
   "source": [
    "small_train = [i for i in train1 if i[\"title\"] in [\"Buddhism\", \"Space_Race\"]]\n",
    "tinny_train = []\n",
    "for i in small_train:\n",
    "    short_i = i\n",
    "    short_i[\"paragraphs\"] = i[\"paragraphs\"][:3]\n",
    "    tinny_train.append(short_i)"
   ]
  },
  {
   "cell_type": "code",
   "execution_count": 193,
   "metadata": {
    "collapsed": true,
    "scrolled": false
   },
   "outputs": [],
   "source": [
    "json.dump({\"version\": \"1.1\", \"data\": tinny_train}, open(\"./data/tiny_train-v1.1.json\", \"w\"))"
   ]
  },
  {
   "cell_type": "markdown",
   "metadata": {},
   "source": [
    "### remove train and dev data that has >512 tokens\n",
    "the result is a slightly smaller train and dev. less than 1% is removed"
   ]
  },
  {
   "cell_type": "code",
   "execution_count": 15,
   "metadata": {},
   "outputs": [],
   "source": [
    "from transformers import DistilBertTokenizer"
   ]
  },
  {
   "cell_type": "code",
   "execution_count": 3,
   "metadata": {
    "collapsed": true
   },
   "outputs": [],
   "source": [
    "train1 = json.load(open(\"./data/train-v1.1.json\", \"r\"))[\"data\"]\n",
    "dev1 = json.load(open(\"./data/dev-v1.1.json\", \"r\"))[\"data\"]"
   ]
  },
  {
   "cell_type": "code",
   "execution_count": 17,
   "metadata": {},
   "outputs": [
    {
     "name": "stdout",
     "output_type": "stream",
     "text": [
      "number of training topics: 442, dev topics: 48, common topics: 0\n"
     ]
    }
   ],
   "source": [
    "train_topics = [i[\"title\"] for i in train1]\n",
    "dev_topics = [i[\"title\"] for i in dev1]\n",
    "common_topics = set(train_topics).intersection(dev_topics)\n",
    "print(\"number of training topics: {}, dev topics: {}, common topics: {}\".format(\n",
    "    len(train_topics), len(dev_topics), len(common_topics)))"
   ]
  },
  {
   "cell_type": "code",
   "execution_count": 66,
   "metadata": {},
   "outputs": [
    {
     "name": "stderr",
     "output_type": "stream",
     "text": [
      "Token indices sequence length is longer than the specified maximum sequence length for this model (515 > 512). Running this sequence through the model will result in indexing errors\n"
     ]
    },
    {
     "name": "stdout",
     "output_type": "stream",
     "text": [
      "1 355\n"
     ]
    },
    {
     "name": "stderr",
     "output_type": "stream",
     "text": [
      "Token indices sequence length is longer than the specified maximum sequence length for this model (733 > 512). Running this sequence through the model will result in indexing errors\n"
     ]
    },
    {
     "name": "stdout",
     "output_type": "stream",
     "text": [
      "2 512\n"
     ]
    },
    {
     "name": "stderr",
     "output_type": "stream",
     "text": [
      "Token indices sequence length is longer than the specified maximum sequence length for this model (512 > 512). Running this sequence through the model will result in indexing errors\n"
     ]
    },
    {
     "name": "stdout",
     "output_type": "stream",
     "text": [
      "3 405\n"
     ]
    },
    {
     "name": "stderr",
     "output_type": "stream",
     "text": [
      "Token indices sequence length is longer than the specified maximum sequence length for this model (620 > 512). Running this sequence through the model will result in indexing errors\n"
     ]
    },
    {
     "name": "stdout",
     "output_type": "stream",
     "text": [
      "4 448\n",
      "5 354\n"
     ]
    },
    {
     "name": "stderr",
     "output_type": "stream",
     "text": [
      "Token indices sequence length is longer than the specified maximum sequence length for this model (538 > 512). Running this sequence through the model will result in indexing errors\n"
     ]
    },
    {
     "name": "stdout",
     "output_type": "stream",
     "text": [
      "6 426\n",
      "7 372\n"
     ]
    },
    {
     "name": "stderr",
     "output_type": "stream",
     "text": [
      "Token indices sequence length is longer than the specified maximum sequence length for this model (571 > 512). Running this sequence through the model will result in indexing errors\n"
     ]
    },
    {
     "name": "stdout",
     "output_type": "stream",
     "text": [
      "8 416\n"
     ]
    },
    {
     "name": "stderr",
     "output_type": "stream",
     "text": [
      "Token indices sequence length is longer than the specified maximum sequence length for this model (635 > 512). Running this sequence through the model will result in indexing errors\n"
     ]
    },
    {
     "name": "stdout",
     "output_type": "stream",
     "text": [
      "9 455\n",
      "10 349\n"
     ]
    },
    {
     "name": "stderr",
     "output_type": "stream",
     "text": [
      "Token indices sequence length is longer than the specified maximum sequence length for this model (535 > 512). Running this sequence through the model will result in indexing errors\n",
      "Token indices sequence length is longer than the specified maximum sequence length for this model (524 > 512). Running this sequence through the model will result in indexing errors\n"
     ]
    },
    {
     "name": "stdout",
     "output_type": "stream",
     "text": [
      "11 424\n",
      "12 411\n",
      "13 432\n"
     ]
    },
    {
     "name": "stderr",
     "output_type": "stream",
     "text": [
      "Token indices sequence length is longer than the specified maximum sequence length for this model (556 > 512). Running this sequence through the model will result in indexing errors\n",
      "Token indices sequence length is longer than the specified maximum sequence length for this model (520 > 512). Running this sequence through the model will result in indexing errors\n"
     ]
    },
    {
     "name": "stdout",
     "output_type": "stream",
     "text": [
      "14 352\n"
     ]
    },
    {
     "name": "stderr",
     "output_type": "stream",
     "text": [
      "Token indices sequence length is longer than the specified maximum sequence length for this model (546 > 512). Running this sequence through the model will result in indexing errors\n"
     ]
    },
    {
     "name": "stdout",
     "output_type": "stream",
     "text": [
      "15 343\n",
      "16 408\n"
     ]
    },
    {
     "name": "stderr",
     "output_type": "stream",
     "text": [
      "Token indices sequence length is longer than the specified maximum sequence length for this model (598 > 512). Running this sequence through the model will result in indexing errors\n"
     ]
    },
    {
     "name": "stdout",
     "output_type": "stream",
     "text": [
      "17 444\n"
     ]
    },
    {
     "name": "stderr",
     "output_type": "stream",
     "text": [
      "Token indices sequence length is longer than the specified maximum sequence length for this model (651 > 512). Running this sequence through the model will result in indexing errors\n"
     ]
    },
    {
     "name": "stdout",
     "output_type": "stream",
     "text": [
      "18 497\n"
     ]
    },
    {
     "name": "stderr",
     "output_type": "stream",
     "text": [
      "Token indices sequence length is longer than the specified maximum sequence length for this model (778 > 512). Running this sequence through the model will result in indexing errors\n"
     ]
    },
    {
     "name": "stdout",
     "output_type": "stream",
     "text": [
      "19 543\n",
      "20 336\n"
     ]
    },
    {
     "name": "stderr",
     "output_type": "stream",
     "text": [
      "Token indices sequence length is longer than the specified maximum sequence length for this model (867 > 512). Running this sequence through the model will result in indexing errors\n",
      "Token indices sequence length is longer than the specified maximum sequence length for this model (579 > 512). Running this sequence through the model will result in indexing errors\n"
     ]
    },
    {
     "name": "stdout",
     "output_type": "stream",
     "text": [
      "21 668\n",
      "22 414\n"
     ]
    },
    {
     "name": "stderr",
     "output_type": "stream",
     "text": [
      "Token indices sequence length is longer than the specified maximum sequence length for this model (703 > 512). Running this sequence through the model will result in indexing errors\n"
     ]
    },
    {
     "name": "stdout",
     "output_type": "stream",
     "text": [
      "23 572\n"
     ]
    },
    {
     "name": "stderr",
     "output_type": "stream",
     "text": [
      "Token indices sequence length is longer than the specified maximum sequence length for this model (547 > 512). Running this sequence through the model will result in indexing errors\n",
      "Token indices sequence length is longer than the specified maximum sequence length for this model (516 > 512). Running this sequence through the model will result in indexing errors\n"
     ]
    },
    {
     "name": "stdout",
     "output_type": "stream",
     "text": [
      "24 168\n",
      "25 139\n"
     ]
    },
    {
     "name": "stderr",
     "output_type": "stream",
     "text": [
      "Token indices sequence length is longer than the specified maximum sequence length for this model (543 > 512). Running this sequence through the model will result in indexing errors\n"
     ]
    },
    {
     "name": "stdout",
     "output_type": "stream",
     "text": [
      "26 381\n"
     ]
    },
    {
     "name": "stderr",
     "output_type": "stream",
     "text": [
      "Token indices sequence length is longer than the specified maximum sequence length for this model (630 > 512). Running this sequence through the model will result in indexing errors\n"
     ]
    },
    {
     "name": "stdout",
     "output_type": "stream",
     "text": [
      "27 500\n",
      "28 400\n"
     ]
    },
    {
     "name": "stderr",
     "output_type": "stream",
     "text": [
      "Token indices sequence length is longer than the specified maximum sequence length for this model (514 > 512). Running this sequence through the model will result in indexing errors\n",
      "Token indices sequence length is longer than the specified maximum sequence length for this model (546 > 512). Running this sequence through the model will result in indexing errors\n"
     ]
    },
    {
     "name": "stdout",
     "output_type": "stream",
     "text": [
      "29 420\n"
     ]
    },
    {
     "name": "stderr",
     "output_type": "stream",
     "text": [
      "Token indices sequence length is longer than the specified maximum sequence length for this model (591 > 512). Running this sequence through the model will result in indexing errors\n"
     ]
    },
    {
     "name": "stdout",
     "output_type": "stream",
     "text": [
      "30 405\n",
      "31 460\n"
     ]
    }
   ],
   "source": [
    "t = DistilBertTokenizer.from_pretrained(\"distilbert-base-uncased\")\n",
    "\n",
    "i = 0\n",
    "medium_train = []\n",
    "for topic in train1:\n",
    "    short_paragraphs = {\"title\": topic[\"title\"], \"paragraphs\": []}\n",
    "    for paragraph in topic[\"paragraphs\"]:\n",
    "        longest_q = np.argmax([len(i[\"question\"]) for i in paragraph[\"qas\"]])\n",
    "        total = paragraph[\"context\"] + \" \" + paragraph[\"qas\"][longest_q][\"question\"]\n",
    "        token_len = t.encode_plus(total, add_special_tokens=True, \n",
    "                                  return_tensors=\"pt\")[\"input_ids\"].shape[1]\n",
    "        if token_len <= 500:\n",
    "            short_paragraphs[\"paragraphs\"].append(paragraph)\n",
    "        else:\n",
    "            i+= 1\n",
    "            print(i, len(total.split(\" \")))\n",
    "    medium_train.append(short_paragraphs)"
   ]
  },
  {
   "cell_type": "code",
   "execution_count": 89,
   "metadata": {
    "scrolled": true
   },
   "outputs": [
    {
     "name": "stderr",
     "output_type": "stream",
     "text": [
      "Token indices sequence length is longer than the specified maximum sequence length for this model (634 > 512). Running this sequence through the model will result in indexing errors\n",
      "Token indices sequence length is longer than the specified maximum sequence length for this model (598 > 512). Running this sequence through the model will result in indexing errors\n",
      "Token indices sequence length is longer than the specified maximum sequence length for this model (537 > 512). Running this sequence through the model will result in indexing errors\n",
      "Token indices sequence length is longer than the specified maximum sequence length for this model (652 > 512). Running this sequence through the model will result in indexing errors\n",
      "Token indices sequence length is longer than the specified maximum sequence length for this model (671 > 512). Running this sequence through the model will result in indexing errors\n",
      "Token indices sequence length is longer than the specified maximum sequence length for this model (514 > 512). Running this sequence through the model will result in indexing errors\n",
      "Token indices sequence length is longer than the specified maximum sequence length for this model (723 > 512). Running this sequence through the model will result in indexing errors\n"
     ]
    },
    {
     "name": "stdout",
     "output_type": "stream",
     "text": [
      "1 523\n",
      "2 477\n",
      "3 389\n",
      "4 430\n",
      "5 508\n",
      "6 503\n",
      "7 408\n"
     ]
    },
    {
     "name": "stderr",
     "output_type": "stream",
     "text": [
      "Token indices sequence length is longer than the specified maximum sequence length for this model (814 > 512). Running this sequence through the model will result in indexing errors\n",
      "Token indices sequence length is longer than the specified maximum sequence length for this model (574 > 512). Running this sequence through the model will result in indexing errors\n"
     ]
    },
    {
     "name": "stdout",
     "output_type": "stream",
     "text": [
      "8 562\n",
      "9 651\n",
      "10 476\n"
     ]
    },
    {
     "name": "stderr",
     "output_type": "stream",
     "text": [
      "Token indices sequence length is longer than the specified maximum sequence length for this model (743 > 512). Running this sequence through the model will result in indexing errors\n"
     ]
    },
    {
     "name": "stdout",
     "output_type": "stream",
     "text": [
      "11 516\n"
     ]
    },
    {
     "name": "stderr",
     "output_type": "stream",
     "text": [
      "Token indices sequence length is longer than the specified maximum sequence length for this model (521 > 512). Running this sequence through the model will result in indexing errors\n"
     ]
    },
    {
     "name": "stdout",
     "output_type": "stream",
     "text": [
      "12 324\n"
     ]
    }
   ],
   "source": [
    "# same thing to dev\n",
    "i = 0\n",
    "medium_dev = []\n",
    "for topic in dev1:\n",
    "    short_paragraphs = {\"title\": topic[\"title\"], \"paragraphs\": []}\n",
    "    for paragraph in topic[\"paragraphs\"]:\n",
    "        longest_q = np.argmax([len(i[\"question\"]) for i in paragraph[\"qas\"]])\n",
    "        total = paragraph[\"context\"] + \" \" + paragraph[\"qas\"][longest_q][\"question\"]\n",
    "        token_len = t.encode_plus(total, add_special_tokens=True, \n",
    "                                  return_tensors=\"pt\")[\"input_ids\"].shape[1]\n",
    "        if token_len <= 500:\n",
    "            short_paragraphs[\"paragraphs\"].append(paragraph)\n",
    "        else:\n",
    "            i+= 1\n",
    "            print(i, len(total.split(\" \")))\n",
    "    medium_dev.append(short_paragraphs)"
   ]
  },
  {
   "cell_type": "code",
   "execution_count": 92,
   "metadata": {},
   "outputs": [],
   "source": [
    "json.dump({\"version\": \"1.1\", \"data\": medium_dev}, open(\"./data/medium_dev_v1.1.json\", \"w\"))"
   ]
  },
  {
   "cell_type": "markdown",
   "metadata": {},
   "source": [
    "### take a look at the distribution of number of paragraphs in topics"
   ]
  },
  {
   "cell_type": "code",
   "execution_count": 11,
   "metadata": {
    "collapsed": true
   },
   "outputs": [],
   "source": [
    "from matplotlib import pyplot as plt"
   ]
  },
  {
   "cell_type": "code",
   "execution_count": 8,
   "metadata": {},
   "outputs": [],
   "source": [
    "train = json.load(open(\"./data/medium_train_v1.1.json\", \"r\"))[\"data\"]\n",
    "dev = json.load(open(\"./data/medium_dev_v1.1.json\", \"r\"))[\"data\"]"
   ]
  },
  {
   "cell_type": "code",
   "execution_count": 20,
   "metadata": {},
   "outputs": [],
   "source": [
    "num_paragraph = [len(i[\"paragraphs\"]) for i in train]\n",
    "pars = []\n",
    "for i in train:\n",
    "    pars.extend(i[\"paragraphs\"])\n",
    "num_qas = [len(i[\"qas\"]) for i in pars]"
   ]
  },
  {
   "cell_type": "code",
   "execution_count": 25,
   "metadata": {},
   "outputs": [
    {
     "data": {
      "image/png": "[encoded data removed]",
      "text/plain": [
       "<Figure size 600x400 with 1 Axes>"
      ]
     },
     "metadata": {},
     "output_type": "display_data"
    },
    {
     "data": {
      "image/png": "[encoded data removed]",
      "text/plain": [
       "<Figure size 600x400 with 1 Axes>"
      ]
     },
     "metadata": {},
     "output_type": "display_data"
    }
   ],
   "source": [
    "plt.figure(dpi=100)\n",
    "plt.hist(num_paragraph, bins=20)\n",
    "plt.title(\"distribution of number of paragraphs per topic\")\n",
    "\n",
    "plt.figure(dpi=100)\n",
    "plt.hist(num_qas, bins=20)\n",
    "plt.title(\"distribution of number of questions per paragraph\")\n",
    "plt.show()"
   ]
  },
  {
   "cell_type": "code",
   "execution_count": 32,
   "metadata": {},
   "outputs": [],
   "source": [
    "for num_topic in [2, 5, 10, 50, 100, 200]:\n",
    "    sample_train = list(np.random.choice(train, size=num_topic, replace=False))\n",
    "    json.dump({\"version\": \"1.1\", \"data\": sample_train},\n",
    "            open(\"./data/train{}_v1.1.json\".format(num_topic), \"w\"))"
   ]
  },
  {
   "cell_type": "code",
   "execution_count": 37,
   "metadata": {},
   "outputs": [],
   "source": [
    "for num_topic in [2, 10]:\n",
    "    sample_dev = list(np.random.choice(dev, size=num_topic, replace=False))\n",
    "    json.dump({\"version\": \"1.1\", \"data\": sample_dev},\n",
    "            open(\"./data/dev{}_v1.1.json\".format(num_topic), \"w\"))"
   ]
  },
  {
   "cell_type": "code",
   "execution_count": 38,
   "metadata": {},
   "outputs": [
    {
     "data": {
      "text/plain": [
       "48"
      ]
     },
     "execution_count": 38,
     "metadata": {},
     "output_type": "execute_result"
    }
   ],
   "source": [
    "len(dev)"
   ]
  },
  {
   "cell_type": "markdown",
   "metadata": {},
   "source": [
    "### Test data_utils"
   ]
  },
  {
   "cell_type": "code",
   "execution_count": 130,
   "metadata": {
    "collapsed": true
   },
   "outputs": [],
   "source": [
    "importlib.reload(data_utils)\n",
    "import data_utils"
   ]
  },
  {
   "cell_type": "code",
   "execution_count": 131,
   "metadata": {
    "collapsed": true
   },
   "outputs": [],
   "source": [
    "file_dict = {\"train\": \"./data/tiny_train.json\",\n",
    "             \"val\": \"./data/tiny_train.json\"}"
   ]
  },
  {
   "cell_type": "code",
   "execution_count": 134,
   "metadata": {
    "collapsed": true
   },
   "outputs": [],
   "source": [
    "train_data = data_utils.prep_data(file_dict[\"train\"])"
   ]
  },
  {
   "cell_type": "code",
   "execution_count": 147,
   "metadata": {},
   "outputs": [
    {
     "data": {
      "text/plain": [
       "6"
      ]
     },
     "execution_count": 147,
     "metadata": {},
     "output_type": "execute_result"
    }
   ],
   "source": [
    "len(train_data)"
   ]
  },
  {
   "cell_type": "code",
   "execution_count": 152,
   "metadata": {
    "scrolled": false
   },
   "outputs": [
    {
     "name": "stdout",
     "output_type": "stream",
     "text": [
      "---Context\n",
      "Buddhism /ˈbudɪzəm/ is a nontheistic religion[note 1] or philosophy (Sanskrit: धर्म dharma; Pali: धम्म dhamma) that encompasses a variety of traditions, beliefs and spiritual practices largely based on teachings attributed to Gautama Buddha, commonly known as the Buddha (\"the awakened one\"). According to Buddhist tradition, the Buddha lived and taught in the eastern part of the Indian subcontinent, present-day Nepal sometime between the 6th and 4th centuries BCE.[note 1] He is recognized by Buddhists as an awakened or enlightened teacher who shared his insights to help sentient beings end their suffering through the elimination of ignorance and craving. Buddhists believe that this is accomplished through the direct understanding and perception of dependent origination and the Four Noble Truths.\n",
      "Q0:What type of religion is Buddhism?\n",
      "A0:nontheistic\n",
      "id 56cff91b234ae51400d9c1bb\n",
      "start index 25\n",
      "Q1:What are the practices of Buddhism based on?\n",
      "A1:teachings attributed to Gautama Buddha\n",
      "id 56cff91b234ae51400d9c1bc\n",
      "start index 202\n",
      "Q2:Where did the Buddha live?\n",
      "A2:present-day Nepal\n",
      "id 56cff91b234ae51400d9c1bd\n",
      "start index 402\n",
      "Q3:How do Buddhists believe their suffering can be ended?\n",
      "A3:through the direct understanding and perception of dependent origination and the Four Noble Truths\n",
      "id 56cff91b234ae51400d9c1be\n",
      "start index 706\n",
      "Q4:What did the Buddha teach should be given up to end suffering?\n",
      "A4:ignorance and craving\n",
      "id 56cff91b234ae51400d9c1bf\n",
      "start index 639\n",
      "Q5:What type of religion is Buddhism?\n",
      "A5:nontheistic religion\n",
      "id 56d0c933234ae51400d9c43c\n",
      "start index 25\n",
      "Q6:Who's teaching is Buddhism based upon?\n",
      "A6:Gautama Buddha\n",
      "id 56d0c933234ae51400d9c43d\n",
      "start index 226\n",
      "Q7:When was Buddha alive?\n",
      "A7:between the 6th and 4th centuries BCE\n",
      "id 56d0c933234ae51400d9c43e\n",
      "start index 429\n",
      "Q8:Where did Buddha reside when he was alive?\n",
      "A8:present-day Nepal\n",
      "id 56d0c933234ae51400d9c43f\n",
      "start index 402\n",
      "Q9:Who's teachings is Buddhism based upon?\n",
      "A9:Gautama Buddha\n",
      "id 56d0d6db17492d1400aab662\n",
      "start index 226\n",
      "Q10:Where was Buddha thought to live?\n",
      "A10:Nepal\n",
      "id 56d0d6db17492d1400aab663\n",
      "start index 414\n",
      "Q11:When approximately was Buddha alive?\n",
      "A11:sometime between the 6th and 4th centuries BCE\n",
      "id 56d0d6db17492d1400aab664\n",
      "start index 420\n",
      "Q12:Buddhism is based on the teaching of who?\n",
      "A12:Gautama Buddha\n",
      "id 56d1b926e7d4791d009020cd\n",
      "start index 226\n",
      "Q13:How many noble truths are there?\n",
      "A13:4\n",
      "id 56d1b926e7d4791d009020cf\n",
      "start index 449\n",
      "Q14:Buddha was part of what subcontinent?\n",
      "A14:Indian\n",
      "id 56d1b926e7d4791d009020d0\n",
      "start index 381\n",
      "Q15:Who is \"the awakened one\"\n",
      "A15:Buddha\n",
      "id 56d1b926e7d4791d009020d1\n",
      "start index 234\n"
     ]
    }
   ],
   "source": [
    "for batch in train_data:\n",
    "    print(\"---Context\\n\"+batch.context)\n",
    "    for i, (q,a) in enumerate(zip(batch.q, batch.a)):\n",
    "        print(\"Q{}:{}\".format(i, q))\n",
    "        print(\"A{}:{}\".format(i, a))\n",
    "        print(\"id\", batch.id[i])\n",
    "        print(\"start index\", batch.a_index[i])\n",
    "    break"
   ]
  },
  {
   "cell_type": "code",
   "execution_count": null,
   "metadata": {
    "collapsed": true
   },
   "outputs": [],
   "source": []
  }
 ],
 "metadata": {
  "kernelspec": {
   "display_name": "Python 3",
   "language": "python",
   "name": "python3"
  },
  "language_info": {
   "codemirror_mode": {
    "name": "ipython",
    "version": 3
   },
   "file_extension": ".py",
   "mimetype": "text/x-python",
   "name": "python",
   "nbconvert_exporter": "python",
   "pygments_lexer": "ipython3",
   "version": "3.6.2"
  }
 },
 "nbformat": 4,
 "nbformat_minor": 2
}
