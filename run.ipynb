{
 "cells": [
  {
   "cell_type": "code",
   "execution_count": 9,
   "metadata": {
    "collapsed": true
   },
   "outputs": [],
   "source": [
    "import pandas as pd\n",
    "import numpy as np\n",
    "import datetime\n",
    "import importlib\n",
    "import pickle\n",
    "import time\n",
    "\n",
    "import data_utils\n",
    "import model_utils\n",
    "import train_utils\n",
    "import evaluation\n",
    "import submission\n",
    "importlib.reload(data_utils)\n",
    "importlib.reload(model_utils)\n",
    "importlib.reload(train_utils)\n",
    "importlib.reload(evaluation)\n",
    "importlib.reload(submission)\n",
    "\n",
    "import torch\n",
    "import torch.nn as nn"
   ]
  },
  {
   "cell_type": "markdown",
   "metadata": {},
   "source": [
    "### Run inference with Huggingface pretrained bert fine-tuned on SQuAD"
   ]
  },
  {
   "cell_type": "code",
   "execution_count": 29,
   "metadata": {
    "collapsed": true,
    "scrolled": false
   },
   "outputs": [],
   "source": [
    "file_dict = {\"train\": \"./data/tiny_train.json\"}\n",
    "train_data = data_utils.prep_data(file_dict[\"train\"])"
   ]
  },
  {
   "cell_type": "code",
   "execution_count": 30,
   "metadata": {
    "scrolled": false
   },
   "outputs": [],
   "source": [
    "importlib.reload(model_utils)\n",
    "m = model_utils.PreTrainedSQuAD()\n",
    "for i in train_data:\n",
    "    answers = m(i)\n",
    "    break"
   ]
  },
  {
   "cell_type": "code",
   "execution_count": 34,
   "metadata": {},
   "outputs": [
    {
     "data": {
      "text/plain": [
       "'Buddhism /ˈbudɪzəm/ is a nontheistic religion[note 1] or philosophy (Sanskrit: धर्म dharma; Pali: धम्म dhamma) that encompasses a variety of traditions, beliefs and spiritual practices largely based on teachings attributed to Gautama Buddha, commonly known as the Buddha (\"the awakened one\"). According to Buddhist tradition, the Buddha lived and taught in the eastern part of the Indian subcontinent, present-day Nepal sometime between the 6th and 4th centuries BCE.[note 1] He is recognized by Buddhists as an awakened or enlightened teacher who shared his insights to help sentient beings end their suffering through the elimination of ignorance and craving. Buddhists believe that this is accomplished through the direct understanding and perception of dependent origination and the Four Noble Truths.'"
      ]
     },
     "execution_count": 34,
     "metadata": {},
     "output_type": "execute_result"
    }
   ],
   "source": [
    "i.context"
   ]
  },
  {
   "cell_type": "code",
   "execution_count": 31,
   "metadata": {},
   "outputs": [
    {
     "data": {
      "text/plain": [
       "['What type of religion is Buddhism?',\n",
       " 'What are the practices of Buddhism based on?',\n",
       " 'Where did the Buddha live?',\n",
       " 'How do Buddhists believe their suffering can be ended?',\n",
       " 'What did the Buddha teach should be given up to end suffering?',\n",
       " 'What type of religion is Buddhism?',\n",
       " \"Who's teaching is Buddhism based upon?\",\n",
       " 'When was Buddha alive?',\n",
       " 'Where did Buddha reside when he was alive?',\n",
       " \"Who's teachings is Buddhism based upon?\",\n",
       " 'Where was Buddha thought to live?',\n",
       " 'When approximately was Buddha alive?',\n",
       " 'Buddhism is based on the teaching of who?',\n",
       " 'How many noble truths are there?',\n",
       " 'Buddha was part of what subcontinent?',\n",
       " 'Who is \"the awakened one\"']"
      ]
     },
     "execution_count": 31,
     "metadata": {},
     "output_type": "execute_result"
    }
   ],
   "source": [
    "i.q"
   ]
  },
  {
   "cell_type": "code",
   "execution_count": 32,
   "metadata": {},
   "outputs": [
    {
     "data": {
      "text/plain": [
       "['nontheistic',\n",
       " 'teachings attributed to Gautama Buddha',\n",
       " 'present-day Nepal',\n",
       " 'through the direct understanding and perception of dependent origination and the Four Noble Truths',\n",
       " 'ignorance and craving',\n",
       " 'nontheistic religion',\n",
       " 'Gautama Buddha',\n",
       " 'between the 6th and 4th centuries BCE',\n",
       " 'present-day Nepal',\n",
       " 'Gautama Buddha',\n",
       " 'Nepal',\n",
       " 'sometime between the 6th and 4th centuries BCE',\n",
       " 'Gautama Buddha',\n",
       " '4',\n",
       " 'Indian',\n",
       " 'Buddha']"
      ]
     },
     "execution_count": 32,
     "metadata": {},
     "output_type": "execute_result"
    }
   ],
   "source": [
    "i.a"
   ]
  },
  {
   "cell_type": "code",
   "execution_count": 33,
   "metadata": {
    "scrolled": true
   },
   "outputs": [
    {
     "data": {
      "text/plain": [
       "['nontheistic',\n",
       " 'teachings attributed to gautama buddha',\n",
       " 'present - day nepal',\n",
       " 'direct understanding and perception of dependent origination and the four noble truths',\n",
       " 'ignorance and craving',\n",
       " 'nontheistic',\n",
       " 'gautama buddha',\n",
       " 'between the 6th and 4th centuries bce',\n",
       " 'nepal',\n",
       " 'gautama buddha',\n",
       " 'present - day nepal',\n",
       " 'between the 6th and 4th centuries bce',\n",
       " 'gautama buddha',\n",
       " 'four',\n",
       " 'indian',\n",
       " 'gautama buddha']"
      ]
     },
     "execution_count": 33,
     "metadata": {},
     "output_type": "execute_result"
    }
   ],
   "source": [
    "answers"
   ]
  },
  {
   "cell_type": "code",
   "execution_count": null,
   "metadata": {
    "collapsed": true
   },
   "outputs": [],
   "source": []
  }
 ],
 "metadata": {
  "kernelspec": {
   "display_name": "Python 3",
   "language": "python",
   "name": "python3"
  },
  "language_info": {
   "codemirror_mode": {
    "name": "ipython",
    "version": 3
   },
   "file_extension": ".py",
   "mimetype": "text/x-python",
   "name": "python",
   "nbconvert_exporter": "python",
   "pygments_lexer": "ipython3",
   "version": "3.6.2"
  }
 },
 "nbformat": 4,
 "nbformat_minor": 2
}
