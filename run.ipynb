{
 "cells": [
  {
   "cell_type": "code",
   "execution_count": 62,
   "metadata": {},
   "outputs": [],
   "source": [
    "import pandas as pd\n",
    "import numpy as np\n",
    "import datetime\n",
    "import importlib\n",
    "import pickle\n",
    "import time\n",
    "\n",
    "import data_utils\n",
    "import model_utils\n",
    "import train_utils\n",
    "import evaluation\n",
    "import submission\n",
    "importlib.reload(data_utils)\n",
    "importlib.reload(model_utils)\n",
    "importlib.reload(train_utils)\n",
    "importlib.reload(evaluation)\n",
    "\n",
    "import torch\n",
    "import torch.nn as nn"
   ]
  },
  {
   "cell_type": "markdown",
   "metadata": {},
   "source": [
    "### Run inference with Huggingface pretrained bert fine-tuned on SQuAD"
   ]
  },
  {
   "cell_type": "code",
   "execution_count": 63,
   "metadata": {
    "collapsed": true,
    "scrolled": false
   },
   "outputs": [],
   "source": [
    "file_dict = {\"train\": \"./data/tiny_train.json\"}\n",
    "train_data = data_utils.prep_data(file_dict[\"train\"])"
   ]
  },
  {
   "cell_type": "code",
   "execution_count": 66,
   "metadata": {
    "scrolled": false
   },
   "outputs": [],
   "source": [
    "importlib.reload(model_utils)\n",
    "importlib.reload(train_utils)\n",
    "m = model_utils.PreTrainedSQuAD().to(\"cuda\")\n",
    "# _ = train_utils.inference(train_data, m)"
   ]
  },
  {
   "cell_type": "code",
   "execution_count": 51,
   "metadata": {},
   "outputs": [
    {
     "data": {
      "text/plain": [
       "{'56cff91b234ae51400d9c1bb': 'nontheistic',\n",
       " '56cff91b234ae51400d9c1bc': 'teachings attributed to gautama buddha',\n",
       " '56cff91b234ae51400d9c1bd': 'present - day nepal',\n",
       " '56cff91b234ae51400d9c1be': 'direct understanding and perception of dependent origination and the four noble truths',\n",
       " '56cff91b234ae51400d9c1bf': 'ignorance and craving',\n",
       " '56d0c933234ae51400d9c43c': 'nontheistic',\n",
       " '56d0c933234ae51400d9c43d': 'gautama buddha',\n",
       " '56d0c933234ae51400d9c43e': 'between the 6th and 4th centuries bce',\n",
       " '56d0c933234ae51400d9c43f': 'nepal',\n",
       " '56d0d6db17492d1400aab662': 'gautama buddha',\n",
       " '56d0d6db17492d1400aab663': 'present - day nepal',\n",
       " '56d0d6db17492d1400aab664': 'between the 6th and 4th centuries bce',\n",
       " '56d1b926e7d4791d009020cd': 'gautama buddha',\n",
       " '56d1b926e7d4791d009020cf': 'four',\n",
       " '56d1b926e7d4791d009020d0': 'indian',\n",
       " '56d1b926e7d4791d009020d1': 'gautama buddha'}"
      ]
     },
     "execution_count": 51,
     "metadata": {},
     "output_type": "execute_result"
    }
   ],
   "source": [
    "answers"
   ]
  },
  {
   "cell_type": "code",
   "execution_count": 52,
   "metadata": {
    "collapsed": true
   },
   "outputs": [],
   "source": [
    "answers.update({1:2})"
   ]
  },
  {
   "cell_type": "code",
   "execution_count": 53,
   "metadata": {},
   "outputs": [
    {
     "data": {
      "text/plain": [
       "{'56cff91b234ae51400d9c1bb': 'nontheistic',\n",
       " '56cff91b234ae51400d9c1bc': 'teachings attributed to gautama buddha',\n",
       " '56cff91b234ae51400d9c1bd': 'present - day nepal',\n",
       " '56cff91b234ae51400d9c1be': 'direct understanding and perception of dependent origination and the four noble truths',\n",
       " '56cff91b234ae51400d9c1bf': 'ignorance and craving',\n",
       " '56d0c933234ae51400d9c43c': 'nontheistic',\n",
       " '56d0c933234ae51400d9c43d': 'gautama buddha',\n",
       " '56d0c933234ae51400d9c43e': 'between the 6th and 4th centuries bce',\n",
       " '56d0c933234ae51400d9c43f': 'nepal',\n",
       " '56d0d6db17492d1400aab662': 'gautama buddha',\n",
       " '56d0d6db17492d1400aab663': 'present - day nepal',\n",
       " '56d0d6db17492d1400aab664': 'between the 6th and 4th centuries bce',\n",
       " '56d1b926e7d4791d009020cd': 'gautama buddha',\n",
       " '56d1b926e7d4791d009020cf': 'four',\n",
       " '56d1b926e7d4791d009020d0': 'indian',\n",
       " '56d1b926e7d4791d009020d1': 'gautama buddha',\n",
       " 1: 2}"
      ]
     },
     "execution_count": 53,
     "metadata": {},
     "output_type": "execute_result"
    }
   ],
   "source": [
    "answers"
   ]
  },
  {
   "cell_type": "code",
   "execution_count": 46,
   "metadata": {},
   "outputs": [
    {
     "data": {
      "text/plain": [
       "['56cff91b234ae51400d9c1bb',\n",
       " '56cff91b234ae51400d9c1bc',\n",
       " '56cff91b234ae51400d9c1bd',\n",
       " '56cff91b234ae51400d9c1be',\n",
       " '56cff91b234ae51400d9c1bf',\n",
       " '56d0c933234ae51400d9c43c',\n",
       " '56d0c933234ae51400d9c43d',\n",
       " '56d0c933234ae51400d9c43e',\n",
       " '56d0c933234ae51400d9c43f',\n",
       " '56d0d6db17492d1400aab662',\n",
       " '56d0d6db17492d1400aab663',\n",
       " '56d0d6db17492d1400aab664',\n",
       " '56d1b926e7d4791d009020cd',\n",
       " '56d1b926e7d4791d009020cf',\n",
       " '56d1b926e7d4791d009020d0',\n",
       " '56d1b926e7d4791d009020d1']"
      ]
     },
     "execution_count": 46,
     "metadata": {},
     "output_type": "execute_result"
    }
   ],
   "source": [
    "i.id"
   ]
  },
  {
   "cell_type": "code",
   "execution_count": 32,
   "metadata": {},
   "outputs": [
    {
     "data": {
      "text/plain": [
       "['nontheistic',\n",
       " 'teachings attributed to Gautama Buddha',\n",
       " 'present-day Nepal',\n",
       " 'through the direct understanding and perception of dependent origination and the Four Noble Truths',\n",
       " 'ignorance and craving',\n",
       " 'nontheistic religion',\n",
       " 'Gautama Buddha',\n",
       " 'between the 6th and 4th centuries BCE',\n",
       " 'present-day Nepal',\n",
       " 'Gautama Buddha',\n",
       " 'Nepal',\n",
       " 'sometime between the 6th and 4th centuries BCE',\n",
       " 'Gautama Buddha',\n",
       " '4',\n",
       " 'Indian',\n",
       " 'Buddha']"
      ]
     },
     "execution_count": 32,
     "metadata": {},
     "output_type": "execute_result"
    }
   ],
   "source": [
    "i.a"
   ]
  },
  {
   "cell_type": "code",
   "execution_count": 33,
   "metadata": {
    "scrolled": true
   },
   "outputs": [
    {
     "data": {
      "text/plain": [
       "['nontheistic',\n",
       " 'teachings attributed to gautama buddha',\n",
       " 'present - day nepal',\n",
       " 'direct understanding and perception of dependent origination and the four noble truths',\n",
       " 'ignorance and craving',\n",
       " 'nontheistic',\n",
       " 'gautama buddha',\n",
       " 'between the 6th and 4th centuries bce',\n",
       " 'nepal',\n",
       " 'gautama buddha',\n",
       " 'present - day nepal',\n",
       " 'between the 6th and 4th centuries bce',\n",
       " 'gautama buddha',\n",
       " 'four',\n",
       " 'indian',\n",
       " 'gautama buddha']"
      ]
     },
     "execution_count": 33,
     "metadata": {},
     "output_type": "execute_result"
    }
   ],
   "source": [
    "answers"
   ]
  },
  {
   "cell_type": "code",
   "execution_count": null,
   "metadata": {
    "collapsed": true
   },
   "outputs": [],
   "source": []
  }
 ],
 "metadata": {
  "kernelspec": {
   "display_name": "Python 3",
   "language": "python",
   "name": "python3"
  },
  "language_info": {
   "codemirror_mode": {
    "name": "ipython",
    "version": 3
   },
   "file_extension": ".py",
   "mimetype": "text/x-python",
   "name": "python",
   "nbconvert_exporter": "python",
   "pygments_lexer": "ipython3",
   "version": "3.6.2"
  }
 },
 "nbformat": 4,
 "nbformat_minor": 2
}
