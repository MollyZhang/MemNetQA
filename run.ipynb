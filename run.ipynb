{
 "cells": [
  {
   "cell_type": "code",
   "execution_count": 1,
   "metadata": {
    "collapsed": true
   },
   "outputs": [],
   "source": [
    "import pandas as pd\n",
    "import numpy as np\n",
    "import datetime\n",
    "import importlib\n",
    "import pickle\n",
    "import time\n",
    "\n",
    "import data_utils\n",
    "import model_utils_train\n",
    "import model_utils_infer\n",
    "import train_utils\n",
    "import evaluation\n",
    "importlib.reload(data_utils)\n",
    "importlib.reload(model_utils_train)\n",
    "importlib.reload(model_utils_infer)\n",
    "\n",
    "\n",
    "importlib.reload(train_utils)\n",
    "importlib.reload(evaluation)\n",
    "\n",
    "import torch\n",
    "import torch.nn as nn\n",
    "\n",
    "from transformers import DistilBertPreTrainedModel\n",
    "from transformers import DistilBertForQuestionAnswering\n",
    "from transformers import DistilBertConfig, DistilBertTokenizer"
   ]
  },
  {
   "cell_type": "markdown",
   "metadata": {},
   "source": [
    "### Load data"
   ]
  },
  {
   "cell_type": "code",
   "execution_count": 2,
   "metadata": {
    "collapsed": true
   },
   "outputs": [],
   "source": [
    "file_dict = {\"train1.1tiny\": \"./data/tiny_train-v1.1.json\",\n",
    "             \"train2.0tiny\": \"./data/tiny_train-v2.0.json\",\n",
    "             \"train1.1\": \"./data/train-v1.1.json\", \n",
    "             \"dev1.1\": \"./data/dev-v1.1.json\"}\n",
    "train_data_v1_debug = data_utils.prep_data(file_dict[\"train1.1tiny\"])\n",
    "train_data_v2_debug = data_utils.prep_data(file_dict[\"train2.0tiny\"])\n",
    "dev_data_v1 = data_utils.prep_data(file_dict[\"dev1.1\"])\n",
    "train_data_v1 = data_utils.prep_data(file_dict[\"train1.1\"])"
   ]
  },
  {
   "cell_type": "markdown",
   "metadata": {},
   "source": [
    "### Run inference with Huggingface pretrained BERT fine-tuned on SQuAD"
   ]
  },
  {
   "cell_type": "code",
   "execution_count": null,
   "metadata": {
    "collapsed": true,
    "scrolled": true
   },
   "outputs": [],
   "source": [
    "importlib.reload(model_utils)\n",
    "importlib.reload(train_utils)\n",
    "m = model_utils.PreTrainedSQuAD()\n",
    "result = train_utils.inference(train_data_v2, m)"
   ]
  },
  {
   "cell_type": "markdown",
   "metadata": {},
   "source": [
    "### Run inference with Huggingface pretrained DistillBERT fine-tuned on SQuAD"
   ]
  },
  {
   "cell_type": "code",
   "execution_count": null,
   "metadata": {
    "collapsed": true
   },
   "outputs": [],
   "source": [
    "importlib.reload(model_utils)\n",
    "m = model_utils.DistilBERTSQuAD()\n",
    "result = train_utils.inference(train_data_v1, m)"
   ]
  },
  {
   "cell_type": "code",
   "execution_count": null,
   "metadata": {
    "collapsed": true
   },
   "outputs": [],
   "source": [
    "importlib.reload(model_utils)\n",
    "m = model_utils.DistilBERTSQuAD()\n",
    "result = train_utils.inference(dev_data_v1, m)"
   ]
  },
  {
   "cell_type": "markdown",
   "metadata": {
    "collapsed": true
   },
   "source": [
    "### Train and run simple DistilBERT model"
   ]
  },
  {
   "cell_type": "code",
   "execution_count": 8,
   "metadata": {},
   "outputs": [
    {
     "name": "stdout",
     "output_type": "stream",
     "text": [
      "Epoch: 0, LR: 3e-05, Train Loss: 10.5282, Val Loss: 9.8157, Val f1 7.931, epoch time: 1.7s\n",
      "Epoch: 10, LR: 3e-05, Train Loss: 4.3554, Val Loss: 4.1090, Val f1 21.738, epoch time: 1.5s\n",
      "Epoch: 20, LR: 3e-05, Train Loss: 3.0646, Val Loss: 3.2321, Val f1 40.183, epoch time: 1.5s\n",
      "Epoch: 30, LR: 3e-05, Train Loss: 1.2089, Val Loss: 0.8216, Val f1 83.022, epoch time: 1.6s\n",
      "Epoch: 40, LR: 3e-05, Train Loss: 0.4165, Val Loss: 0.2666, Val f1 86.909, epoch time: 1.5s\n",
      "Epoch: 50, LR: 3e-05, Train Loss: 0.4213, Val Loss: 0.1705, Val f1 88.320, epoch time: 1.5s\n"
     ]
    }
   ],
   "source": [
    "importlib.reload(model_utils_train)\n",
    "importlib.reload(train_utils)\n",
    "m = model_utils_train.SimpleDistilBERT()\n",
    "result = train_utils.train(train_data=train_data_v1_debug, val_data=train_data_v1_debug, model=m, \n",
    "                           patience=10, lr=3e-5, print_freq=10)"
   ]
  },
  {
   "cell_type": "code",
   "execution_count": null,
   "metadata": {},
   "outputs": [],
   "source": [
    "importlib.reload(model_utils_train)\n",
    "m = model_utils_train.SimpleDistilBERT()\n",
    "result = train_utils.train(train_data=train_data_v1, val_data=dev_data_v1, model=m, \n",
    "                           patience=10, lr=3e-5, print_freq=1)"
   ]
  },
  {
   "cell_type": "code",
   "execution_count": null,
   "metadata": {
    "collapsed": true
   },
   "outputs": [],
   "source": []
  }
 ],
 "metadata": {
  "kernelspec": {
   "display_name": "Python 3",
   "language": "python",
   "name": "python3"
  },
  "language_info": {
   "codemirror_mode": {
    "name": "ipython",
    "version": 3
   },
   "file_extension": ".py",
   "mimetype": "text/x-python",
   "name": "python",
   "nbconvert_exporter": "python",
   "pygments_lexer": "ipython3",
   "version": "3.6.2"
  }
 },
 "nbformat": 4,
 "nbformat_minor": 2
}
